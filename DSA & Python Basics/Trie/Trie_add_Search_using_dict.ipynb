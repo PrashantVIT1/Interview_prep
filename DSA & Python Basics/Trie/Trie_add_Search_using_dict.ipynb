{
 "cells": [
  {
   "cell_type": "code",
   "execution_count": 25,
   "metadata": {},
   "outputs": [],
   "source": [
    "\"\"\"\n",
    "Inputs:\n",
    "1nd line no of word you want to store in Trie (int)\n",
    "2rd line to (2+1st line input)th line (string)\n",
    "Next line enter number of words want to search\n",
    "then enter strings in each line\n",
    "\n",
    "\"\"\"\n",
    "class Trie:\n",
    "    root = {} #main dictionary of Trie\n",
    "    def add(self, word):# This funtion adds new word to Trie\n",
    "        cur = self.root # cur is iterator to check whether new key/paths are required to add new word and root is main dictionary\n",
    "    \n",
    "        \n",
    "        for ch in word: # ch is all the charactors in the word \n",
    "            if ch not in cur: # if charactor is not present add new key/path initiate it empty\n",
    "                cur[ch] = {} \n",
    "            cur = cur[ch] # now got to the key that was created or was present \n",
    "        cur['*'] = True # set * key to true at the end of each word \n",
    "        #so larger the word the dictionary nesting will take place and * key represant the end state of the word\n",
    "    def search(self,word): # This function searches whether the word is presant or not presant\n",
    "        cur = self.root #cur is iterator to check whether new key/paths are presant or not\n",
    "        \n",
    "        for ch in word: # ch is all the charactors in the word \n",
    "            if ch not in cur: # if ch is not found in cur that means word not presant so result is false\n",
    "                return False\n",
    "            cur = cur[ch] #if ch present then go till the end unless it becomes false\n",
    "        if '*' in cur:# if * key not present that means words is prefix of a word that is present but word is not Present\n",
    "            return True \n",
    "        else:\n",
    "            return False \n",
    "            \n",
    "    "
   ]
  },
  {
   "cell_type": "code",
   "execution_count": 26,
   "metadata": {},
   "outputs": [
    {
     "data": {
      "text/plain": [
       "True"
      ]
     },
     "execution_count": 26,
     "metadata": {},
     "output_type": "execute_result"
    }
   ],
   "source": [
    "dictionary = Trie()\n",
    "dictionary.add(\"we\")\n",
    "dictionary.add(\"wert\")\n",
    "dictionary.search(\"wert\")\n",
    "dictionary.search(\"we\")"
   ]
  },
  {
   "cell_type": "code",
   "execution_count": 28,
   "metadata": {},
   "outputs": [
    {
     "name": "stdout",
     "output_type": "stream",
     "text": [
      "True\n",
      "False\n",
      "True\n",
      "True\n",
      "True\n"
     ]
    }
   ],
   "source": [
    "dictionary = Trie()\n",
    "dictionary.add(\"pqr\")\n",
    "dictionary.add(\"pqrst\")\n",
    "print(dictionary.search(\"pqr\"))\n",
    "print(dictionary.search(\"pq\"))\n",
    "print(dictionary.search(\"p\"))\n",
    "print(dictionary.search(\"pqrst\"))\n",
    "dictionary.add(\"p\")\n",
    "print(dictionary.search(\"p\"))"
   ]
  },
  {
   "cell_type": "code",
   "execution_count": 34,
   "metadata": {},
   "outputs": [
    {
     "name": "stdout",
     "output_type": "stream",
     "text": [
      "No of words to be Added:\n",
      "2\n",
      "enter words:\n",
      "we\n",
      "rt\n",
      "No of words to be searched:\n",
      "2\n",
      "enter words:\n",
      "we\n",
      "op\n",
      "True\n",
      "False\n"
     ]
    }
   ],
   "source": [
    "n2 = int(input(\"No of words to be Added:\\n\"))\n",
    "print(\"enter words:\")\n",
    "words = []\n",
    "checks = []\n",
    "for j in range(n2):\n",
    "    words.append(input())\n",
    "n3 = int(input(\"No of words to be searched:\\n\"))\n",
    "print(\"enter words:\")\n",
    "for j in range(n3):\n",
    "    checks.append(input())\n",
    "\n",
    "        \n",
    "    \n",
    "\n",
    "dictionary = Trie()\n",
    "\n",
    "for k in words:\n",
    "    dictionary.add(k)\n",
    "for k in checks:\n",
    "    print(dictionary.search(k))\n",
    "        \n",
    "\n",
    "        \n",
    "        \n",
    "    "
   ]
  }
 ],
 "metadata": {
  "kernelspec": {
   "display_name": "Python 3",
   "language": "python",
   "name": "python3"
  },
  "language_info": {
   "codemirror_mode": {
    "name": "ipython",
    "version": 3
   },
   "file_extension": ".py",
   "mimetype": "text/x-python",
   "name": "python",
   "nbconvert_exporter": "python",
   "pygments_lexer": "ipython3",
   "version": "3.7.6"
  }
 },
 "nbformat": 4,
 "nbformat_minor": 4
}
