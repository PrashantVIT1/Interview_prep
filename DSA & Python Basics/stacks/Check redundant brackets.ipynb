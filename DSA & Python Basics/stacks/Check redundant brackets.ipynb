{
 "cells": [
  {
   "cell_type": "markdown",
   "metadata": {},
   "source": [
    "# Check redundant brackets\n",
    "\n",
    "For a given expression in the form of a string, find if there exist any redundant brackets or not. It is given that the expression contains only rounded brackets or parenthesis and the input expression will always be balanced.\n",
    "A pair of the bracket is said to be redundant when a sub-expression is surrounded by unnecessary or needless brackets.\n",
    "\n",
    "Example:\n",
    "Expression: (a+b)+c\n",
    "Since there are no needless brackets, hence, the output must be 'false'.\n",
    "\n",
    "Expression: ((a+b))\n",
    "The expression can be reduced to (a+b). Hence the expression has redundant brackets and the output will be 'true'.\n",
    "\n",
    "Input Format :\n",
    "The first and the only line of input contains a string expression, without any spaces in between.\n",
    "Output Format :\n",
    "The first and the only line of output will print either 'true' or 'false'(without the quotes) denoting whether the input expression contains redundant brackets or not.\n",
    "\n",
    "Constraints:\n",
    "0 <= N <= 10^6\n",
    "Where N is the length of the expression.\n",
    "\n",
    "Time Limit: 1 second\n",
    "Sample Input 1:\n",
    "a+(b)+c\n",
    "Sample Output 1:\n",
    "true\n",
    "Explanation:\n",
    "The expression can be reduced to a+b+c. Hence, the brackets are redundant.\n",
    "Sample Input 2:\n",
    "(a+b)\n",
    "Sample Output 2:\n",
    "false"
   ]
  },
  {
   "cell_type": "code",
   "execution_count": 1,
   "metadata": {},
   "outputs": [],
   "source": [
    "def checkRedundantBrackets(expression) :\n",
    "  s=expression\n",
    "  le = len(s)\n",
    "  l=[]\n",
    "  for i in range(le):\n",
    "    if s[i]==\"(\":\n",
    "      l.append(\"(\")\n",
    "    elif s[i] in \"+-*/\":\n",
    "      l.append(s[i])\n",
    "    elif s[i] ==\")\":\n",
    "      if l[-1]==\"(\":\n",
    "          return True\n",
    "      elif l[-1] in \"+-*/\":\n",
    "        while l[-1]!=\"(\":\n",
    "          l.pop()\n",
    "        l.pop()\n",
    "  return False\n",
    "\n"
   ]
  },
  {
   "cell_type": "code",
   "execution_count": 4,
   "metadata": {},
   "outputs": [
    {
     "name": "stdout",
     "output_type": "stream",
     "text": [
      "Enter the expression:\n",
      "a+(b+c)+(c)\n",
      "output:\n",
      "true\n"
     ]
    }
   ],
   "source": [
    "\n",
    "expression=input(\"Enter the expression:\\n\")\n",
    "print(\"output:\")\n",
    "if checkRedundantBrackets(expression):\n",
    "  print('true')\n",
    "else:\n",
    "  print('false')"
   ]
  },
  {
   "cell_type": "code",
   "execution_count": null,
   "metadata": {},
   "outputs": [],
   "source": [
    "\"\"\"Check redundant brackets\n",
    "For a given expression in the form of a string, find if there exist any redundant brackets or not. It is given that the expression contains only rounded brackets or parenthesis and the input expression will always be balanced.\n",
    "A pair of the bracket is said to be redundant when a sub-expression is surrounded by unnecessary or needless brackets.\n",
    "Example:\n",
    "Expression: (a+b)+c\n",
    "Since there are no needless brackets, hence, the output must be 'false'.\n",
    "Expression: ((a+b))\n",
    "The expression can be reduced to (a+b). Hence the expression has redundant brackets and the output will be 'true'.\n",
    "Input Format :\n",
    "The first and the only line of input contains a string expression, without any spaces in between.\n",
    "Output Format :\n",
    "The first and the only line of output will print either 'true' or 'false'(without the quotes) denoting whether the input expression contains redundant brackets or not.\n",
    "Constraints:\n",
    "0 <= N <= 10^6\n",
    "Where N is the length of the expression.\n",
    "Time Limit: 1 second\n",
    "Sample Input 1:\n",
    "a+(b)+c\n",
    "Sample Output 1:\n",
    "true\n",
    "Explanation:\n",
    "The expression can be reduced to a+b+c. Hence, the brackets are redundant.\n",
    "Sample Input 2:\n",
    "(a+b)\n",
    "Sample Output 2:\n",
    "false\"\"\"\n",
    "\n",
    "def checkRedundantBrackets(expression) :\n",
    "  s=expression\n",
    "  le = len(s)\n",
    "  l=[]\n",
    "  for i in range(le):\n",
    "    if s[i]==\"(\":  # checks open bracket\n",
    "      l.append(\"(\") # put open brackets to stack\n",
    "    elif s[i] in \"+-*/\": #check char in the string\n",
    "      l.append(s[i])      #if it an operator then put it into the stack\n",
    "    elif s[i] ==\")\":       # checks close bracket\n",
    "      if l[-1]==\"(\":       # and if there is no operator in the stack\n",
    "          return True      # then its redundant and further code will not run\n",
    "      elif l[-1] in \"+-*/\":        # if it has operator \n",
    "        \n",
    "        while l[-1]!=\"(\":          # then pop till we don't get open bracket\n",
    "          l.pop()                  \n",
    "        l.pop()                     #pop open bracket\n",
    "  return False                      #it is false if no redundant bracket is found till end\n",
    "\n",
    "expression=input(\"Enter the expression:\\n\")\n",
    "print(\"output:\")\n",
    "if checkRedundantBrackets(expression):\n",
    "  print('true')\n",
    "else:\n",
    "  print('false')\n",
    "\"\"\"\n",
    "Time complexity: O(n)\n",
    "Space complexity: O(n)\n",
    "\"\"\""
   ]
  }
 ],
 "metadata": {
  "kernelspec": {
   "display_name": "Python 3",
   "language": "python",
   "name": "python3"
  },
  "language_info": {
   "codemirror_mode": {
    "name": "ipython",
    "version": 3
   },
   "file_extension": ".py",
   "mimetype": "text/x-python",
   "name": "python",
   "nbconvert_exporter": "python",
   "pygments_lexer": "ipython3",
   "version": "3.7.6"
  }
 },
 "nbformat": 4,
 "nbformat_minor": 4
}
