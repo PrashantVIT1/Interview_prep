{
 "cells": [
  {
   "cell_type": "markdown",
   "metadata": {},
   "source": [
    "# Balanced Paranthesis\n",
    "Send Feedback\n",
    "For a given a string expression containing only round brackets or parentheses, check if they are balanced or not. Brackets are said to be balanced if the bracket which opens last, closes first.\n",
    "Example:\n",
    "Expression: (()())\n",
    "Since all the opening brackets have their corresponding closing brackets, we say it is balanced and hence the output will be, 'true'.\n",
    "You need to return a boolean value indicating whether the expression is balanced or not.\n",
    "Note:\n",
    "The input expression will not contain spaces in between.\n",
    "Input Format:\n",
    "The first and the only line of input contains a string expression without any spaces in between.\n",
    " Output Format:\n",
    "The only line of output prints 'true' or 'false'.\n",
    "Note:\n",
    "You don't have to print anything explicitly. It has been taken care of. Just implement the function. \n",
    "Constraints:\n",
    "1 <= N <= 10^7\n",
    " Where N is the length of the expression.\n",
    "\n",
    "Time Limit: 1sec\n",
    "Sample Input 1 :\n",
    "(()()())\n",
    "Sample Output 1 :\n",
    "true\n",
    "Sample Input 2 :\n",
    "()()(()\n",
    "Sample Output 2 :\n",
    "false\n",
    "Explanation to Sample Input 2:\n",
    "The initial two pairs of brackets are balanced. But when you see, the opening bracket at the fourth index doesn't have its corresponding closing bracket which makes it imbalanced and in turn, making the whole expression imbalanced. Hence the output prints 'false'."
   ]
  },
  {
   "cell_type": "code",
   "execution_count": 1,
   "metadata": {},
   "outputs": [
    {
     "name": "stdout",
     "output_type": "stream",
     "text": [
      "(()())\n",
      "true\n"
     ]
    }
   ],
   "source": [
    "def isBalanced(expression) :\n",
    "    #Your code goes here\n",
    "    n = expression\n",
    "    s = []\n",
    "    flag=True\n",
    "    for i in n:\n",
    "      if i in \"(\":\n",
    "        s.append(\"(\")\n",
    "      else:\n",
    "        if len(s)==0:\n",
    "          flag = False\n",
    "          break\n",
    "        s.pop()\n",
    "    if len(s)==0 and flag==True:\n",
    "      return True\n",
    "    else:\n",
    "      return False\n",
    "expression = input()\n",
    "\n",
    "if isBalanced(expression) :\n",
    "    print(\"true\")\n",
    "\n",
    "else :\n",
    "    print(\"false\")"
   ]
  }
 ],
 "metadata": {
  "kernelspec": {
   "display_name": "Python 3",
   "language": "python",
   "name": "python3"
  },
  "language_info": {
   "codemirror_mode": {
    "name": "ipython",
    "version": 3
   },
   "file_extension": ".py",
   "mimetype": "text/x-python",
   "name": "python",
   "nbconvert_exporter": "python",
   "pygments_lexer": "ipython3",
   "version": "3.7.6"
  }
 },
 "nbformat": 4,
 "nbformat_minor": 4
}
