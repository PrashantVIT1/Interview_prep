{
 "cells": [
  {
   "cell_type": "markdown",
   "metadata": {},
   "source": [
    "# Height Of Tree\n",
    "Send Feedback\n",
    "For a given Binary Tree of integers, find and return the height of the tree.\n",
    "Example:\n",
    "                        10\n",
    "                       /  \\\n",
    "                      20   30\n",
    "                     /  \\\n",
    "                    40   50\n",
    "\n",
    "Height of the given tree is 3. \n",
    "\n",
    "Height is defined as the total number of nodes along the longest path from the root to any of the leaf node.\n",
    " Input Format:\n",
    "The first and the only line of input will contain the node data, all separated by a single space. Since -1 is used as an indication whether the left or right node data exist for root, it will not be a part of the node data.\n",
    "Output Format:\n",
    "The first and the only line of output prints the height of the given binary tree.\n",
    "Note:\n",
    "You are not required to print anything explicitly. It has already been taken care of.\n",
    "Constraints:\n",
    "0 <= N <= 10^5\n",
    "Where N is the total number of nodes in the binary tree.\n",
    "\n",
    "Time Limit: 1 sec\n",
    "Sample Input 1:\n",
    "10 20 30 40 50 -1 -1 -1 -1 -1 -1\n",
    "Sample Output 1:\n",
    "3\n",
    "Sample Input 2:\n",
    "3 -1 -1\n",
    "Sample Output 2:\n",
    "1"
   ]
  },
  {
   "cell_type": "code",
   "execution_count": 1,
   "metadata": {},
   "outputs": [
    {
     "name": "stdout",
     "output_type": "stream",
     "text": [
      "3\n"
     ]
    }
   ],
   "source": [
    "class Node :\n",
    "    def __init__(self, data) :\n",
    "        self.data = data\n",
    "        self.left = None\n",
    "        self.right = None\n",
    "def print_tree(root):\n",
    "  if root is None:\n",
    "    return\n",
    "  print_tree(root.left)\n",
    "  print(root.data)\n",
    "  print_tree(root.right)\n",
    "    \n",
    "def height(root):\n",
    "  if root is None:\n",
    "    return 0\n",
    "  k1 = height(root.left)\n",
    "  k2 = height(root.right)\n",
    "  if k1 >k2:\n",
    "    return k1 + 1\n",
    "  elif k2 >= k1:\n",
    "    return k2 + 1\n",
    "\n",
    "root = Node(1);\n",
    "l1=Node(2)\n",
    "l2=Node(3)\n",
    "l3=Node(4)\n",
    "l4 = Node(5)\n",
    "l5 = Node(6)\n",
    "l6 = Node(77)\n",
    "root.left = l1\n",
    "root.right = l2\n",
    "l1.left = l3\n",
    "l1.right = l4\n",
    "l2.left = l5\n",
    "l2.right = l6\n",
    "\n",
    "k = height(root)\n",
    "print(k)"
   ]
  }
 ],
 "metadata": {
  "kernelspec": {
   "display_name": "Python 3",
   "language": "python",
   "name": "python3"
  },
  "language_info": {
   "codemirror_mode": {
    "name": "ipython",
    "version": 3
   },
   "file_extension": ".py",
   "mimetype": "text/x-python",
   "name": "python",
   "nbconvert_exporter": "python",
   "pygments_lexer": "ipython3",
   "version": "3.7.6"
  }
 },
 "nbformat": 4,
 "nbformat_minor": 4
}
