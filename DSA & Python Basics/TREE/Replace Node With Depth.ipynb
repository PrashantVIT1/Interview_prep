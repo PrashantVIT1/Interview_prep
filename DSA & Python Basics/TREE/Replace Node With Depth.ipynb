{
 "cells": [
  {
   "cell_type": "markdown",
   "metadata": {},
   "source": [
    "# Replace Node With Depth\n",
    "Send Feedback\n",
    "For a given a Binary Tree of integers, replace each of its data with the depth of the tree.\n",
    "Root is at depth 0, hence the root data is updated with 0. Replicate the same further going down the in the depth of the given tree.\n",
    "The modified tree will be printed in the in-order fashion.\n",
    "Example:\n",
    "Alt text\n",
    "\n",
    "The above tree after updating will look like this:\n",
    "Alt text\n",
    "\n",
    "Output: 2 1 2 0 2 1 2 (printed in the in-order fashion)\n",
    " Input Format:\n",
    "The first and the only line of input will contain the node data, all separated by a single space. Since -1 is used as an indication whether the left or right node data exist for root, it will not be a part of the node data.\n",
    "Output Format:\n",
    "The first and the only line of output prints the updated tree in the in-order fashion.\n",
    "Note:\n",
    "You are not required to print anything explicitly. It has already been taken care of.\n",
    "Constraints:\n",
    "1 <= N <= 10^5\n",
    "Where N is the total number of nodes in the binary tree.\n",
    "\n",
    "Time Limit: 1sec\n",
    " Sample Input 1:\n",
    "2 35 10 2 3 5 2 -1 -1 -1 -1 -1 -1 -1 -1 \n",
    "Sample Output 1:\n",
    "2 1 2 0 2 1 2 \n",
    " Sample Input 2:\n",
    "1 2 3 4 5 6 7 -1 -1 -1 -1 -1 -1 -1 -1\n",
    "Sample Output 2:\n",
    "2 1 2 0 2 1 2 "
   ]
  },
  {
   "cell_type": "code",
   "execution_count": 1,
   "metadata": {},
   "outputs": [
    {
     "name": "stdout",
     "output_type": "stream",
     "text": [
      "2\n",
      "1\n",
      "2\n",
      "0\n",
      "2\n",
      "1\n",
      "2\n"
     ]
    }
   ],
   "source": [
    "class Node :\n",
    "    def __init__(self, data) :\n",
    "        self.data = data\n",
    "        self.left = None\n",
    "        self.right = None\n",
    "def print_tree(root):\n",
    "  if root is None:\n",
    "    return\n",
    "  print_tree(root.left)\n",
    "  print(root.data)\n",
    "  print_tree(root.right)\n",
    "def changeToDepthTree_helper(root,level=0) :\n",
    "    if root is None:\n",
    "        return\n",
    "    root.data = level\n",
    "    changeToDepthTree_helper(root.left,level+1)\n",
    "    changeToDepthTree_helper(root.right,level+1)\n",
    "    \n",
    "def changeToDepthTree(root) :\n",
    "    changeToDepthTree_helper(root)\n",
    "  \n",
    "\n",
    "\n",
    "\n",
    "root = Node(1);\n",
    "l1=Node(2)\n",
    "l2=Node(3)\n",
    "l3=Node(4)\n",
    "l4 = Node(5)\n",
    "l5 = Node(6)\n",
    "l6 = Node(77)\n",
    "root.left = l1\n",
    "root.right = l2\n",
    "l1.left = l3\n",
    "l1.right = l4\n",
    "l2.left = l5\n",
    "l2.right = l6\n",
    "\n",
    "\n",
    "k=changeToDepthTree(root)\n",
    "\n",
    "# print(k)\n",
    "print_tree(root)"
   ]
  }
 ],
 "metadata": {
  "kernelspec": {
   "display_name": "Python 3",
   "language": "python",
   "name": "python3"
  },
  "language_info": {
   "codemirror_mode": {
    "name": "ipython",
    "version": 3
   },
   "file_extension": ".py",
   "mimetype": "text/x-python",
   "name": "python",
   "nbconvert_exporter": "python",
   "pygments_lexer": "ipython3",
   "version": "3.7.6"
  }
 },
 "nbformat": 4,
 "nbformat_minor": 4
}
