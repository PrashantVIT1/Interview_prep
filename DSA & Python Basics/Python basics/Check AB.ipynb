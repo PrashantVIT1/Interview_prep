{
 "cells": [
  {
   "cell_type": "code",
   "execution_count": null,
   "metadata": {},
   "outputs": [],
   "source": [
    "Check AB\n",
    "Send Feedback\n",
    "Suppose you have a string, S, made up of only 'a's and 'b's. Write a recursive function that checks if the string was generated using the following rules:\n",
    "a. The string begins with an 'a'\n",
    "b. Each 'a' is followed by nothing or an 'a' or \"bb\"\n",
    "c. Each \"bb\" is followed by nothing or an 'a'\n",
    "If all the rules are followed by the given string, return true otherwise return false.\n",
    "Input format :\n",
    "String S\n",
    "Output format :\n",
    "'true' or 'false'\n",
    "Constraints :\n",
    "1 <= |S| <= 1000\n",
    "where |S| represents length of string S.\n",
    "Sample Input 1 :\n",
    "abb\n",
    "Sample Output 1 :\n",
    "true\n",
    "Sample Input 2 :\n",
    "abababa\n",
    "Sample Output 2 :\n",
    "false"
   ]
  },
  {
   "cell_type": "code",
   "execution_count": 2,
   "metadata": {},
   "outputs": [
    {
     "name": "stdout",
     "output_type": "stream",
     "text": [
      "abb\n",
      "true\n"
     ]
    }
   ],
   "source": [
    "def ab(s,i,n):\n",
    "  if i>=n:\n",
    "    return True\n",
    "  if s[i]=='a':\n",
    "    return ab(s,i+1,n)\n",
    "  if i+1<n and ((s[i]+s[i+1])=='bb'):\n",
    "    return ab(s,i+2,n)\n",
    "  return False\n",
    "s=input()\n",
    "n=len(s)\n",
    "ans=False\n",
    "if s[0]=='a':\n",
    "  ans=ab(s,1,n)\n",
    "if ans:\n",
    "  print('true')\n",
    "else:\n",
    "  print('false')"
   ]
  }
 ],
 "metadata": {
  "kernelspec": {
   "display_name": "Python 3",
   "language": "python",
   "name": "python3"
  },
  "language_info": {
   "codemirror_mode": {
    "name": "ipython",
    "version": 3
   },
   "file_extension": ".py",
   "mimetype": "text/x-python",
   "name": "python",
   "nbconvert_exporter": "python",
   "pygments_lexer": "ipython3",
   "version": "3.7.6"
  }
 },
 "nbformat": 4,
 "nbformat_minor": 4
}
