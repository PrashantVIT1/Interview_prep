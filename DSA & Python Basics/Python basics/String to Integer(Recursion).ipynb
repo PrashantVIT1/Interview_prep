{
 "cells": [
  {
   "cell_type": "markdown",
   "metadata": {},
   "source": [
    "# String to Integer\n",
    "\n",
    "Write a recursive function to convert a given string into the number it represents. That is input will be a numeric string that contains only numbers, you need to convert the string into corresponding integer and return the answer.\n",
    "Input format :\n",
    "Numeric string S (string, Eg. \"1234\")\n",
    "Output format :\n",
    "Corresponding integer N (int, Eg. 1234)\n",
    "Constraints :\n",
    "0 <= |S| <= 9\n",
    "where |S| represents length of string S.\n",
    "Sample Input 1 :\n",
    "00001231\n",
    "Sample Output 1 :\n",
    "1231\n",
    "Sample Input 2 :\n",
    "12567\n",
    "Sample Output 2 :\n",
    "12567"
   ]
  },
  {
   "cell_type": "code",
   "execution_count": 5,
   "metadata": {},
   "outputs": [
    {
     "name": "stdout",
     "output_type": "stream",
     "text": [
      "123\n",
      "123\n"
     ]
    }
   ],
   "source": [
    "s=input()\n",
    "n=len(s)-1\n",
    "def co(s,n):\n",
    "  if n<=0:\n",
    "    return s[0]\n",
    "  p=int(s[n])\n",
    "  return p+int(co(s,n-1))*10\n",
    "print(co(s,n)+0)"
   ]
  }
 ],
 "metadata": {
  "kernelspec": {
   "display_name": "Python 3",
   "language": "python",
   "name": "python3"
  },
  "language_info": {
   "codemirror_mode": {
    "name": "ipython",
    "version": 3
   },
   "file_extension": ".py",
   "mimetype": "text/x-python",
   "name": "python",
   "nbconvert_exporter": "python",
   "pygments_lexer": "ipython3",
   "version": "3.7.6"
  }
 },
 "nbformat": 4,
 "nbformat_minor": 4
}
