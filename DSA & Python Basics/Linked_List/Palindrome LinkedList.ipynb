{
 "cells": [
  {
   "cell_type": "markdown",
   "metadata": {},
   "source": [
    "# Palindrome LinkedList\n",
    "\n",
    "You have been given a head to a singly linked list of integers. Write a function check to whether the list given is a 'Palindrome' or not.\n",
    " Input format :\n",
    "The first line contains an Integer 't' which denotes the number of test cases or queries to be run. Then the test cases follow.\n",
    "\n",
    "First and the only line of each test case or query contains the the elements of the singly linked list separated by a single space.\n",
    " Remember/Consider :\n",
    "While specifying the list elements for input, -1 indicates the end of the singly linked list and hence, would never be a list element.\n",
    " Output format :\n",
    "For each test case, the only line of output that print 'true' if the list is Palindrome or 'false' otherwise.\n",
    " Constraints :\n",
    "1 <= t <= 10^2\n",
    "0 <= M <= 10^5\n",
    "Time Limit: 1sec\n",
    "\n",
    "Where 'M' is the size of the singly linked list.\n",
    "Sample Input 1 :\n",
    "1\n",
    "9 2 3 3 2 9 -1\n",
    "Sample Output 1 :\n",
    "true\n",
    "Sample Input 2 :\n",
    "2\n",
    "0 2 3 2 5 -1\n",
    "-1\n",
    "Sample Output 2 :\n",
    "false\n",
    "true\n",
    "Explanation for the Sample Input 2 :\n",
    "For the first query, it is pretty intuitive that the the given list is not a palindrome, hence the output is 'false'.\n",
    "\n",
    "For the second query, the list is empty. An empty list is always a palindrome , hence the output is 'true'."
   ]
  },
  {
   "cell_type": "code",
   "execution_count": 1,
   "metadata": {},
   "outputs": [
    {
     "name": "stdout",
     "output_type": "stream",
     "text": [
      "original:\n",
      "2\n",
      "3\n",
      "3\n",
      "2\n",
      "test results:\n",
      "True\n"
     ]
    }
   ],
   "source": [
    "class Node:\n",
    "  def __init__(self,data):\n",
    "    self.data=data\n",
    "    self.next=None\n",
    "def ll(arr):\n",
    "  head=None\n",
    "  curr=None\n",
    "  for i in range(len(arr)):\n",
    "    if head is None:\n",
    "      head=Node(arr[0])\n",
    "      curr=head\n",
    "    else:\n",
    "      curr.next=Node(arr[i])\n",
    "      curr=curr.next\n",
    "  return head\n",
    "\n",
    "def isPalindrome(head) :\n",
    "  curr=head\n",
    "  arr=[]\n",
    "  while curr is not None:\n",
    "    arr.append(curr.data)\n",
    "    curr=curr.next\n",
    "  for i in range(len(arr)//2):\n",
    "    if arr[i]!=arr[-i-1]:\n",
    "      return False\n",
    "  return True\n",
    "    \n",
    "\n",
    "l=[2,3,3,2]\n",
    "\n",
    "l=ll(l)\n",
    "l1=l\n",
    "print(\"original:\")\n",
    "while l is not None:\n",
    "  print(l.data)\n",
    "  l=l.next\n",
    "print(\"test results:\")\n",
    "# printReverse(l1)\n",
    "c=isPalindrome(l1)\n",
    "print(c)"
   ]
  }
 ],
 "metadata": {
  "kernelspec": {
   "display_name": "Python 3",
   "language": "python",
   "name": "python3"
  },
  "language_info": {
   "codemirror_mode": {
    "name": "ipython",
    "version": 3
   },
   "file_extension": ".py",
   "mimetype": "text/x-python",
   "name": "python",
   "nbconvert_exporter": "python",
   "pygments_lexer": "ipython3",
   "version": "3.7.6"
  }
 },
 "nbformat": 4,
 "nbformat_minor": 4
}
