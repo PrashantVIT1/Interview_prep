{
 "cells": [
  {
   "cell_type": "markdown",
   "metadata": {},
   "source": [
    "# Midpoint of Linked list\n",
    "For a given singly linked list of integers, find and return the node present at the middle of the list.\n",
    "Note :\n",
    "If the length of the singly linked list is even, then return the first middle node.\n",
    "\n",
    "Example: Consider, 10 -> 20 -> 30 -> 40 is the given list, then the nodes present at the middle with respective data values are, 20 and 30. We return the first node with data 20.\n",
    " Input format :\n",
    "The first line contains an Integer 't' which denotes the number of test cases or queries to be run. Then the test cases follow.\n",
    "\n",
    "The first and the only line of each test case or query contains the elements of the singly linked list separated by a single space. \n",
    "Remember/Consider :\n",
    "While specifying the list elements for input, -1 indicates the end of the singly linked list and hence, would never be a list element\n",
    " Output Format :\n",
    "For each test case/query, print the data value of the node at the middle of the given list.\n",
    "\n",
    "Output for every test case will be printed in a seperate line.\n",
    "Constraints :\n",
    "1 <= t <= 10^2\n",
    "0 <= M <= 10^5 \n",
    "Where M is the size of the singly linked list.\n",
    "\n",
    "Time Limit: 1sec\n",
    "Sample Input 1 :\n",
    "1\n",
    "1 2 3 4 5 -1\n",
    "Sample Output 1 :\n",
    "3\n",
    "Sample Input 2 :\n",
    "2 \n",
    "-1\n",
    "1 2 3 4 -1\n",
    "Sample Output 2 :\n",
    "2"
   ]
  },
  {
   "cell_type": "code",
   "execution_count": 1,
   "metadata": {},
   "outputs": [
    {
     "name": "stdout",
     "output_type": "stream",
     "text": [
      "original:\n",
      "1\n",
      "2\n",
      "34\n",
      "5\n",
      "test results:\n",
      "2\n"
     ]
    }
   ],
   "source": [
    "class Node:\n",
    "  def __init__(self,data):\n",
    "    self.data=data\n",
    "    self.next=None\n",
    "def ll(arr):\n",
    "  head=None\n",
    "  curr=None\n",
    "  for i in range(len(arr)):\n",
    "    if head is None:\n",
    "      head=Node(arr[0])\n",
    "      curr=head\n",
    "    else:\n",
    "      curr.next=Node(arr[i])\n",
    "      curr=curr.next\n",
    "  return head\n",
    "\n",
    "def midPoint(head) :\n",
    "  curr=head\n",
    "  count=0\n",
    "  while curr is not None:\n",
    "    curr=curr.next\n",
    "    count+=1\n",
    "  curr=head\n",
    "\n",
    "  if count%2==0:\n",
    "    count = count//2\n",
    "  else:\n",
    "    count = (count+1)//2\n",
    "  for i in range(count):\n",
    "    if i+1 == count:\n",
    "      return curr.data\n",
    "    curr=curr.next\n",
    "\n",
    "      \n",
    "\n",
    "\n",
    "\n",
    "l=[1,2,34,5]\n",
    "l=ll(l)\n",
    "l1=l\n",
    "print(\"original:\")\n",
    "while l is not None:\n",
    "  print(l.data)\n",
    "  l=l.next\n",
    "print(\"test results:\")\n",
    "\n",
    "l=midPoint(l1)\n",
    "print(l)\n",
    "\n",
    "      \n"
   ]
  }
 ],
 "metadata": {
  "kernelspec": {
   "display_name": "Python 3",
   "language": "python",
   "name": "python3"
  },
  "language_info": {
   "codemirror_mode": {
    "name": "ipython",
    "version": 3
   },
   "file_extension": ".py",
   "mimetype": "text/x-python",
   "name": "python",
   "nbconvert_exporter": "python",
   "pygments_lexer": "ipython3",
   "version": "3.7.6"
  }
 },
 "nbformat": 4,
 "nbformat_minor": 4
}
