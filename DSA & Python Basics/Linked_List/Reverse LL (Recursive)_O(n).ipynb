{
 "cells": [
  {
   "cell_type": "markdown",
   "metadata": {},
   "source": [
    "# Reverse LL (Recursive)\n",
    "\n",
    "Given a singly linked list of integers, reverse it using recursion and return the head to the modified list. You have to do this in O(N) time complexity where N is the size of the linked list.\n",
    "Input format :\n",
    "The first line contains an Integer 't' which denotes the number of test cases or queries to be run. Then the test cases follow.\n",
    "\n",
    "The first and the only line of each test case or query contains the elements of the singly linked list separated by a single space.\n",
    "Remember/Consider :\n",
    "While specifying the list elements for input, -1 indicates the end of the singly linked list and hence, would never be a list element\n",
    "Output format :\n",
    "For each test case/query, print the elements of the updated singly linked list.\n",
    "\n",
    "Output for every test case will be printed in a seperate line.\n",
    " Constraints :\n",
    "1 <= t <= 10^2\n",
    "0 <= M <= 10^4\n",
    "Where M is the size of the singly linked list.\n",
    "\n",
    "Time Limit: 1sec\n",
    "Sample Input 1 :\n",
    "1\n",
    "1 2 3 4 5 6 7 8 -1\n",
    "Sample Output 1 :\n",
    "8 7 6 5 4 3 2 1\n",
    "Sample Input 2 :\n",
    "2\n",
    "10 -1\n",
    "10 20 30 40 50 -1\n",
    "Sample Output 2 :\n",
    "10 \n",
    "50 40 30 20 10 "
   ]
  },
  {
   "cell_type": "code",
   "execution_count": 2,
   "metadata": {},
   "outputs": [
    {
     "name": "stdout",
     "output_type": "stream",
     "text": [
      "original:\n",
      "2\n",
      "1\n",
      "8\n",
      "9\n",
      "test results:\n",
      "9\n",
      "8\n",
      "1\n",
      "2\n"
     ]
    }
   ],
   "source": [
    "class Node:\n",
    "  def __init__(self,data):\n",
    "    self.data=data\n",
    "    self.next=None\n",
    "def ll(arr):\n",
    "  head=None\n",
    "  curr=None\n",
    "  for i in range(len(arr)):\n",
    "    if head is None:\n",
    "      head=Node(arr[0])\n",
    "      curr=head\n",
    "    else:\n",
    "      curr.next=Node(arr[i])\n",
    "      curr=curr.next\n",
    "  return head\n",
    "\n",
    "def reverseLinkedListRec(head):\n",
    "    #enter code here\n",
    "    if head is None or head.next is None:\n",
    "        return head\n",
    "    smallHead = reverseLinkedListRec(head.next)\n",
    "    tail = head.next\n",
    "    tail.next = head\n",
    "    head.next = None\n",
    "    return smallHead\n",
    "\n",
    "\n",
    "    \n",
    "\n",
    "l=[2,1,8,9]\n",
    "\n",
    "l=ll(l)\n",
    "l1=l\n",
    "print(\"original:\")\n",
    "while l is not None:\n",
    "  print(l.data)\n",
    "  l=l.next\n",
    "print(\"test results:\")\n",
    "# printReverse(l1)\n",
    "l=reverseLinkedListRec(l1)\n",
    "\n",
    "while l is not None:\n",
    "  print(l.data)\n",
    "  l=l.next\n",
    "      \n"
   ]
  }
 ],
 "metadata": {
  "kernelspec": {
   "display_name": "Python 3",
   "language": "python",
   "name": "python3"
  },
  "language_info": {
   "codemirror_mode": {
    "name": "ipython",
    "version": 3
   },
   "file_extension": ".py",
   "mimetype": "text/x-python",
   "name": "python",
   "nbconvert_exporter": "python",
   "pygments_lexer": "ipython3",
   "version": "3.7.6"
  }
 },
 "nbformat": 4,
 "nbformat_minor": 4
}
