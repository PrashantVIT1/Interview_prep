{
 "cells": [
  {
   "cell_type": "markdown",
   "metadata": {},
   "source": [
    "# Print Reverse LinkedList\n",
    "\n",
    "You have been given a singly linked list of integers. Write a function to print the list in a reverse order.\n",
    "To explain it further, you need to start printing the data from the tail and move towards the head of the list, printing the head data at the end.\n",
    "Note :\n",
    "You can’t change any of the pointers in the linked list, just print it in the reverse order.\n",
    " Input format :\n",
    "The first line contains an Integer 't' which denotes the number of test cases or queries to be run. Then the test cases follow.\n",
    "\n",
    "The first and the only line of each test case or query contains the elements of the singly linked list separated by a single space.\n",
    "Remember/Constraints :\n",
    "While specifying the list elements for input, -1 indicates the end of the singly linked list and hence, would never be a list element.\n",
    "Output format :\n",
    "For each test case, print the singly linked list of integers in a reverse fashion, in a row, separated by a single space.\n",
    "\n",
    "Output for every test case will be printed in a seperate line.\n",
    " Constraints :\n",
    "1 <= t <= 10^2\n",
    "0 <= M <= 10^3\n",
    "Time Limit: 1sec\n",
    "\n",
    "Where 'M' is the size of the singly linked list.\n",
    "Sample Input 1 :\n",
    "1\n",
    "1 2 3 4 5 -1\n",
    "Sample Output 1 :\n",
    "5 4 3 2 1\n",
    "Sample Input 2 :\n",
    "2\n",
    "1 2 3 -1\n",
    "10 20 30 40 50 -1\n",
    "Sample Output 2 :\n",
    "3 2 1\n",
    "50 40 30 20 10"
   ]
  },
  {
   "cell_type": "code",
   "execution_count": 1,
   "metadata": {},
   "outputs": [
    {
     "name": "stdout",
     "output_type": "stream",
     "text": [
      "original:\n",
      "4\n",
      "1\n",
      "7\n",
      "8\n",
      "3\n",
      "test results:\n",
      "3 8 7 1 4 "
     ]
    }
   ],
   "source": [
    "class Node:\n",
    "  def __init__(self,data):\n",
    "    self.data=data\n",
    "    self.next=None\n",
    "def ll(arr):\n",
    "  head=None\n",
    "  curr=None\n",
    "  for i in range(len(arr)):\n",
    "    if head is None:\n",
    "      head=Node(arr[0])\n",
    "      curr=head\n",
    "    else:\n",
    "      curr.next=Node(arr[i])\n",
    "      curr=curr.next\n",
    "  return head\n",
    "\n",
    "def printReverse(head):\n",
    "  #enter your code here\n",
    "  if head is None:\n",
    "    return \n",
    "  printReverse(head.next)\n",
    "  print(head.data,end=\" \")\n",
    "\n",
    "    \n",
    "\n",
    "l=[4,1,7,8,3]\n",
    "\n",
    "l=ll(l)\n",
    "l1=l\n",
    "print(\"original:\")\n",
    "while l is not None:\n",
    "  print(l.data)\n",
    "  l=l.next\n",
    "print(\"test results:\")\n",
    "printReverse(l1)\n",
    "\n",
    "      \n"
   ]
  }
 ],
 "metadata": {
  "kernelspec": {
   "display_name": "Python 3",
   "language": "python",
   "name": "python3"
  },
  "language_info": {
   "codemirror_mode": {
    "name": "ipython",
    "version": 3
   },
   "file_extension": ".py",
   "mimetype": "text/x-python",
   "name": "python",
   "nbconvert_exporter": "python",
   "pygments_lexer": "ipython3",
   "version": "3.7.6"
  }
 },
 "nbformat": 4,
 "nbformat_minor": 4
}
